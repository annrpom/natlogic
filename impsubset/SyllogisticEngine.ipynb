{
 "cells": [
  {
   "cell_type": "markdown",
   "metadata": {},
   "source": [
    "# Syllogistic Argument Evaluator"
   ]
  },
  {
   "cell_type": "markdown",
   "metadata": {},
   "source": [
    "The basic syntax which we handle includes the standard syllogistic repertoire: _'All x are y' and 'Some x are y'. We allow negation on nouns in the form 'All non-a are non-b'. We extend the system to include relational clauses. The goal is to study semantic consequence on finite models, to do proof search and counter-model construction."
   ]
  },
  {
   "cell_type": "markdown",
   "metadata": {},
   "source": [
    "The logical system is studied in the paper _'Syllogistic inference with cardinality comparisons'_, in the the book _'J. Michael Dunn on information based logics'_, Springer 2016."
   ]
  },
  {
   "cell_type": "markdown",
   "metadata": {},
   "source": [
    "## Definitions Concerning Rules"
   ]
  },
  {
   "cell_type": "markdown",
   "metadata": {},
   "source": [
    "We represent variables and tags as characters. Building from this, statements are represented as tuples `('r', 'x', 'y')`, where 'r' is a tag and 'x' and 'y' are variables. A premise list is a list of statements and an inference rule is a class consisting of the rule's name, a premise list, and a statement.\n"
   ]
  },
  {
   "cell_type": "markdown",
   "metadata": {},
   "source": [
    "Thus, in Python, we can instantiate a _rule_ by calling on the constructor for the Rule class:\n"
   ]
  },
  {
   "cell_type": "code",
   "execution_count": 1,
   "metadata": {},
   "outputs": [],
   "source": [
    "from subsetInf import *\n",
    "barbara = Rule('barbara', [('a', 'x', 'y'), ('a', 'y', 'z')], ('a', 'x', 'z'))\n",
    "darii = Rule('darii', [('a', 'x', 'y'), ('i', 'x', 'z')], ('i', 'y', 'z'))\n",
    "axiom = Rule('axiom', [], ('a', 'x', 'x'))\n",
    "rules = [barbara, darii, axiom]"
   ]
  },
  {
   "cell_type": "markdown",
   "metadata": {},
   "source": [
    "## Definitions Concerning Databases\n"
   ]
  },
  {
   "cell_type": "markdown",
   "metadata": {},
   "source": [
    "Furthermore, a database is a class consisting of a set of numbers called the universe and a set of tag facts `('t', 'm', 'n')`, where 'm' and 'n' are members of the set."
   ]
  },
  {
   "cell_type": "markdown",
   "metadata": {},
   "source": [
    "In Python, we can instantiate a _database_ by calling on the constructor for the Database class:"
   ]
  },
  {
   "cell_type": "code",
   "execution_count": null,
   "metadata": {},
   "outputs": [],
   "source": [
    "from subsetInf import *\n",
    "universe = [x for x in range(5)]\n",
    "t1 = ('a', 0, 2)\n",
    "t2 = ('a', 2, 3)\n",
    "t3 = ('a', 2, 4)\n",
    "prooftrees = [t1, t2, t3]\n",
    "database = Database(universe, prooftrees, [], {})"
   ]
  },
  {
   "cell_type": "markdown",
   "metadata": {},
   "source": [
    "## Inputs & Outputs"
   ]
  },
  {
   "cell_type": "markdown",
   "metadata": {},
   "source": [
    "From there, we can apply the backend to create an engine that takes in english sentences in the form \"all x y\", \"some x y\", and \"no x y\". The engine then calculates a proof-if available."
   ]
  },
  {
   "cell_type": "code",
   "execution_count": 1,
   "metadata": {
    "scrolled": false
   },
   "outputs": [
    {
     "name": "stdout",
     "output_type": "stream",
     "text": [
      "Hello. Welcome to the syllogistic inference evaluator.\n",
      "Examples are coming soon THEY WILL BE GENERATED HERE\n",
      "\n",
      "-------------------\n",
      "Below are a list of rules to choose from, please type in which rules you would like this engine to have.\n",
      "(Put these on one line, separated by commas. Press enter when finished.)\n",
      "\n",
      "axiom with premises [] and conclusion ('a', 'x', 'x')\n",
      "barbara with premises [('a', 'x', 'y'), ('a', 'y', 'z')] and conclusion ('a', 'x', 'z')\n",
      "darii with premises [('a', 'x', 'y'), ('i', 'x', 'z')] and conclusion ('i', 'y', 'z')\n",
      "some1 with premises [('i', 'x', 'y')] and conclusion ('i', 'x', 'x')\n",
      "down with premises [('a', 'x', R(y)), ('a', 'z', 'y')] and conclusion ('a', 'x', R(z))\n",
      "some2 with premises [('i', 'x', 'y')] and conclusion ('i', 'y', 'x')\n",
      "zero with premises [('a', 'x', N(x))] and conclusion ('a', 'x', 'y')\n",
      "one with premises [('a', N(x), 'x')] and conclusion ('a', 'y', 'x')\n",
      "anti with premises [('a', 'x', 'y')] and conclusion ('a', R(y), R(x))\n",
      "\n",
      "Enter choices below:\n",
      "barbara, darii\n",
      "Please enter your list of premises. Press tab when finished.\n",
      "These should be in the form all _ are _ OR some _ are _\n",
      "Enter a premise and then hit ENTER or just press ENTER if finished\n",
      "all x are y\n",
      "Enter a premise and then hit ENTER or just press ENTER if finished\n",
      "all y are z\n",
      "Enter a premise and then hit ENTER or just press ENTER if finished\n",
      "some x are p\n",
      "Enter a premise and then hit ENTER or just press ENTER if finished\n",
      "\n",
      "Generated below are all of the provable tagfacts when given your premises:\n",
      "all x are y\n",
      "all y are z\n",
      "all x are z\n",
      "all x are y\n",
      "some x are p\n",
      "some y are p\n",
      "all x are z\n",
      "some x are p\n",
      "some z are p\n",
      "\n",
      "Enter a target\n",
      "some z are p\n",
      "\n",
      "\n",
      "\n",
      "\n",
      "The following is a Proof Tree:\n",
      "                                                                                    \n",
      "      ───────────── given  ───────────── given                                      \n",
      "       All x are y          All y are z                                             \n",
      "   ──────────────────────────────────────────── barbara  ────────────── given       \n",
      "                   All x are z                            Some x are p              \n",
      "────────────────────────────────────────────────────────────────────────────── darii\n",
      "                                 Some z are p                                       \n",
      "\n",
      "\n",
      "The following is a formal proof:\n",
      "1 all x are y -- given\n",
      "2 all y are z -- given\n",
      "3 all x are z uses barbara from applications of [1, 2]\n",
      "4 all x are z -- given\n",
      "5 some x are p -- given\n",
      "6 some z are p uses darii from applications of [4, 5]\n"
     ]
    }
   ],
   "source": [
    "%run syllogistic.py"
   ]
  },
  {
   "cell_type": "code",
   "execution_count": null,
   "metadata": {},
   "outputs": [],
   "source": [
    "add in all generatable-"
   ]
  }
 ],
 "metadata": {
  "kernelspec": {
   "display_name": "Python 3",
   "language": "python",
   "name": "python3"
  },
  "language_info": {
   "codemirror_mode": {
    "name": "ipython",
    "version": 3
   },
   "file_extension": ".py",
   "mimetype": "text/x-python",
   "name": "python",
   "nbconvert_exporter": "python",
   "pygments_lexer": "ipython3",
   "version": "3.8.6"
  }
 },
 "nbformat": 4,
 "nbformat_minor": 4
}
