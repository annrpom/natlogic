{
 "cells": [
  {
   "cell_type": "markdown",
   "metadata": {},
   "source": [
    "# Natural Logic\n",
    "## Syllogistic Inference Engine"
   ]
  },
  {
   "cell_type": "markdown",
   "metadata": {},
   "source": [
    "This is the main part of both *proof search* and *counter-model generation* in a family of syllogistic logics."
   ]
  },
  {
   "cell_type": "markdown",
   "metadata": {},
   "source": [
    "### Definitons concerning rules"
   ]
  },
  {
   "cell_type": "markdown",
   "metadata": {},
   "source": [
    "We represent *variables* and *tags* as characters. Building from this, *statements* are represented as tuples `('r', 'x', 'y')`, where 'r' is a *tag* and 'x' and 'y' are *variables*. A *premise list* is a list of statements and an *inference rule* is a class consisting of the rule's name, a *premise list*, and a *statement*.\n",
    "\n",
    "Thus, in Python, we can instantiate a rule by calling on the constructor for the ru:"
   ]
  },
  {
   "cell_type": "code",
   "execution_count": null,
   "metadata": {},
   "outputs": [],
   "source": []
  }
 ],
 "metadata": {
  "kernelspec": {
   "display_name": "Python 3",
   "language": "python",
   "name": "python3"
  },
  "language_info": {
   "codemirror_mode": {
    "name": "ipython",
    "version": 3
   },
   "file_extension": ".py",
   "mimetype": "text/x-python",
   "name": "python",
   "nbconvert_exporter": "python",
   "pygments_lexer": "ipython3",
   "version": "3.8.3"
  }
 },
 "nbformat": 4,
 "nbformat_minor": 4
}
