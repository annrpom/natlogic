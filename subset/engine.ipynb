{
 "cells": [
  {
   "cell_type": "markdown",
   "metadata": {},
   "source": [
    "# Natural Logic\n",
    "## Syllogistic Inference Engine"
   ]
  },
  {
   "cell_type": "markdown",
   "metadata": {},
   "source": [
    "This is the main part of both *proof search* and *counter-model generation* in a family of syllogistic logics."
   ]
  },
  {
   "cell_type": "markdown",
   "metadata": {},
   "source": [
    "### Definitons concerning rules"
   ]
  },
  {
   "cell_type": "markdown",
   "metadata": {},
   "source": [
    "We represent *variables* and *tags* as characters. Building from this, *statements* are represented as tuples `('r', 'x', 'y')`, where 'r' is a *tag* and 'x' and 'y' are *variables*. A *premise list* is a list of statements and an *inference rule* is a class consisting of the rule's name, a *premise list*, and a *statement*.\n",
    "\n",
    "Thus, in Python, we can instantiate a *rule* by calling on the constructor for the Rule class:"
   ]
  },
  {
   "cell_type": "code",
   "execution_count": 9,
   "metadata": {},
   "outputs": [],
   "source": [
    "%run subsetInf.py\n",
    "barbara = Rule('barbara', [('a', 'x', 'y'), ('a', 'y', 'z')], ('a', 'x', 'z'))\n",
    "darii = Rule('darii', [('a', 'x', 'y'), ('i', 'x', 'z')], ('i', 'y', 'z'))\n",
    "axiom = Rule('axiom', [], ('a', 'x', 'x'))\n",
    "rules = [barbara, darii, axiom]"
   ]
  },
  {
   "cell_type": "markdown",
   "metadata": {},
   "source": [
    "### Definitions concerning databases"
   ]
  },
  {
   "cell_type": "markdown",
   "metadata": {},
   "source": [
    "Furthermore, a *database* is a class consisting of a list of numbers called the *universe* and a set of *tag facts* `('t', 'm', 'n')`, where 'm' and 'n' are numbers in the list. The term *tag fact* has been altered into the *ProofTree* class in order to maintain a pointer to any given *tag fact's* parents. Consequently, this class is shallowly represented by a tuple \"tag fact\", but also contains a list of tag facts \"parents\", and the name of the rule it needed to be generated-assuming its existence.\n",
    "\n",
    "In Python, we can instantiate a *database* by calling on the constructor for the Database class:"
   ]
  },
  {
   "cell_type": "code",
   "execution_count": 10,
   "metadata": {},
   "outputs": [],
   "source": [
    "%run subsetInf.py\n",
    "universe = [x for x in range(5)]\n",
    "t1 = ProofTree('a', 0, 2)\n",
    "t2 = ProofTree('a', 2, 3)\n",
    "t3 = ProofTree('a', 2, 4)\n",
    "prooftrees = [t1, t2, t3]\n",
    "database = Database(universe, prooftrees)"
   ]
  },
  {
   "cell_type": "markdown",
   "metadata": {},
   "source": [
    "### Inputs"
   ]
  },
  {
   "cell_type": "markdown",
   "metadata": {},
   "source": [
    "The *engine* itself is represented by the Engine class. This class contains a list of *rules*, a *database*, and an instance of the *ProofTree* class called the *target*.\n",
    "\n",
    "Therefore, creating an object of this class would look like such:"
   ]
  },
  {
   "cell_type": "code",
   "execution_count": 12,
   "metadata": {},
   "outputs": [],
   "source": [
    "%run subsetInf.py\n",
    "target = ProofTree('i', 3, 3)\n",
    "engine = Engine(rules, database, target)"
   ]
  },
  {
   "cell_type": "markdown",
   "metadata": {},
   "source": [
    "### Outputs"
   ]
  },
  {
   "cell_type": "markdown",
   "metadata": {},
   "source": [
    "Once the method `gen_tf()` is called on an object of the *Engine* class, a valid proof is then returned:"
   ]
  },
  {
   "cell_type": "code",
   "execution_count": 13,
   "metadata": {},
   "outputs": [
    {
     "name": "stdout",
     "output_type": "stream",
     "text": [
      "engine size 7 datasize 7\n",
      "after revision engine size 7 datasize 7 these will be equal\n",
      "DOES THIS EVER WORK\n",
      "('i', 3, 3)\n",
      "THIS IS THE PRINT\n",
      "('a', 0, 2) ('a', 2, 3) barbara w/ concl: ('a', 0, 3)\n",
      "('a', 0, 3) ('i', 0, 3) darii w/ concl: ('i', 3, 3)\n",
      "None\n"
     ]
    }
   ],
   "source": [
    "%run main.py"
   ]
  },
  {
   "cell_type": "code",
   "execution_count": null,
   "metadata": {},
   "outputs": [],
   "source": []
  }
 ],
 "metadata": {
  "kernelspec": {
   "display_name": "Python 3",
   "language": "python",
   "name": "python3"
  },
  "language_info": {
   "codemirror_mode": {
    "name": "ipython",
    "version": 3
   },
   "file_extension": ".py",
   "mimetype": "text/x-python",
   "name": "python",
   "nbconvert_exporter": "python",
   "pygments_lexer": "ipython3",
   "version": "3.8.3"
  }
 },
 "nbformat": 4,
 "nbformat_minor": 4
}
